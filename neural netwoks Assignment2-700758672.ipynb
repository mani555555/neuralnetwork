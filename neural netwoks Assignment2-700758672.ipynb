{
  "nbformat": 4,
  "nbformat_minor": 0,
  "metadata": {
    "colab": {
      "provenance": [],
      "toc_visible": true
    },
    "kernelspec": {
      "name": "python3",
      "display_name": "Python 3"
    },
    "language_info": {
      "name": "python"
    }
  },
  "cells": [
    {
      "cell_type": "code",
      "source": [
        "your_firstname=input(\"Enter your first name \") #for entering first name\n",
        "your_lastname=input(\"Enter your last name \") # for entering lastname\n",
        "#function for fullname\n",
        "def fullname(your_firstname,your_lastname):\n",
        "    global your_fullname\n",
        "    your_fullname=your_firstname+\" \"+your_lastname #combining the first and last name\n",
        "    print(\"Your fullname is \" + your_fullname) #printing the fullname\n",
        "fullname(your_firstname,your_lastname) #calling the fucntion"
      ],
      "metadata": {
        "colab": {
          "base_uri": "https://localhost:8080/"
        },
        "id": "bbUkIQsd-574",
        "outputId": "f3191f8b-fb1e-4586-dbfc-b9cb1614baa5"
      },
      "execution_count": 9,
      "outputs": [
        {
          "output_type": "stream",
          "name": "stdout",
          "text": [
            "Enter your first name mani\n",
            "Enter your last name mallem\n",
            "Your fullname is mani mallem\n"
          ]
        }
      ]
    },
    {
      "cell_type": "code",
      "source": [
        "your_firstname=input(\"Enter your first name \")\n",
        "your_lastname=input(\"Enter your last name \")\n",
        "\n",
        "def fullname(your_firstname,your_lastname):\n",
        "    global your_fullname\n",
        "    your_fullname=your_firstname+\" \"+your_lastname\n",
        "    print(\"Your fullname is \" + your_fullname)\n",
        "fullname(your_firstname,your_lastname)\n",
        "\n",
        "#For displaying the alternate string\n",
        "def alternate_string(your_fullname):\n",
        "    fullname=your_fullname[::2] # for showing the alternate letters\n",
        "    print(\"The alternate string is: \" ,fullname) #printing the alternate string of fullname\n",
        "alternate_string(your_fullname)"
      ],
      "metadata": {
        "colab": {
          "base_uri": "https://localhost:8080/"
        },
        "id": "T6AaKdmZAVu3",
        "outputId": "c9932324-c9b9-4048-db00-da000317c334"
      },
      "execution_count": 7,
      "outputs": [
        {
          "output_type": "stream",
          "name": "stdout",
          "text": [
            "Enter your first name mani \n",
            "Enter your last name mallem\n",
            "Your fullname is mani  mallem\n",
            "The alternate string is:  mn mle\n"
          ]
        }
      ]
    },
    {
      "cell_type": "code",
      "source": [],
      "metadata": {
        "id": "PI3wx25G_G8B"
      },
      "execution_count": null,
      "outputs": []
    },
    {
      "cell_type": "code",
      "source": [
        "\n",
        "from collections import Counter\n",
        "# to read file\n",
        "with open('/content/neural.txt', 'r') as ipFile:\n",
        "    lines = ipFile.readlines()\n",
        "\n",
        "opLines = []\n",
        "\n",
        "#file1.close()\n",
        "listOfWords = []\n",
        "\n",
        "for line in lines:\n",
        "    opLines.append(line)\n",
        "    line = line.strip()\n",
        "    listOfWords.extend(line.split(\" \"))\n",
        "\n",
        "opLines.append(\"Word_Count:\")\n",
        "elementsCount = Counter(listOfWords)\n",
        "\n",
        "# to count occurance of each word\n",
        "for ele, count in elementsCount.items():\n",
        "  opLines.append(f\"{ele} - Count: {count}\")\n",
        "\n",
        "# to add content in file\n",
        "with open('/content/neuraloutput.txt', 'w') as opFile:\n",
        "    for line in opLines:\n",
        "        opFile.write(line + '\\n')\n",
        "\n",
        "ipFile.close()\n",
        "opFile.close()"
      ],
      "metadata": {
        "id": "XYixWtxD_HEC"
      },
      "execution_count": 5,
      "outputs": []
    },
    {
      "cell_type": "code",
      "source": [
        "def convertinginchestocm():\n",
        "    list=[120,115, 105, 136]#Declaring the list\n",
        "    e=[]#empty list\n",
        "    for items in list: #for loop\n",
        "        e.append(items*2.54) # appending\n",
        "    print(\"output for loop\",e)\n",
        "    #For list comprehension\n",
        "    print(\"output for List Comprehension\",[items*2.54 for items in list])\n",
        "\n",
        "convertinginchestocm()"
      ],
      "metadata": {
        "colab": {
          "base_uri": "https://localhost:8080/"
        },
        "id": "IY05ER9fAor6",
        "outputId": "80800b3f-a049-4da7-e080-fb1f61f5621b"
      },
      "execution_count": 8,
      "outputs": [
        {
          "output_type": "stream",
          "name": "stdout",
          "text": [
            "output for loop [304.8, 292.1, 266.7, 345.44]\n",
            "output for List Comprehension [304.8, 292.1, 266.7, 345.44]\n"
          ]
        }
      ]
    }
  ]
}